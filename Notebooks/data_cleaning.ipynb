{
 "cells": [
  {
   "cell_type": "code",
   "execution_count": 2,
   "metadata": {},
   "outputs": [
    {
     "name": "stderr",
     "output_type": "stream",
     "text": [
      "c:\\Users\\sammi\\Desktop\\Projects\\News_Bias_Detection\\news-bias-detection\\.venv\\lib\\site-packages\\tqdm\\auto.py:21: TqdmWarning: IProgress not found. Please update jupyter and ipywidgets. See https://ipywidgets.readthedocs.io/en/stable/user_install.html\n",
      "  from .autonotebook import tqdm as notebook_tqdm\n"
     ]
    }
   ],
   "source": [
    "from datasets import load_dataset\n",
    "import pyarrow as pa\n",
    "import pandas as pd"
   ]
  },
  {
   "cell_type": "code",
   "execution_count": 3,
   "metadata": {},
   "outputs": [
    {
     "name": "stderr",
     "output_type": "stream",
     "text": [
      "c:\\Users\\sammi\\Desktop\\Projects\\News_Bias_Detection\\news-bias-detection\\.venv\\lib\\site-packages\\huggingface_hub\\repocard.py:105: UserWarning: Repo card metadata block was not found. Setting CardData to empty.\n",
      "  warnings.warn(\"Repo card metadata block was not found. Setting CardData to empty.\")\n"
     ]
    }
   ],
   "source": [
    "# If the dataset is gated/private, make sure you have run huggingface-cli login\n",
    "dataset = load_dataset(\"newsmediabias/news-bias-full-data\")"
   ]
  },
  {
   "cell_type": "code",
   "execution_count": 9,
   "metadata": {},
   "outputs": [],
   "source": [
    "train_df = dataset['train'].to_pandas()\n",
    "test_df = dataset['test'].to_pandas()"
   ]
  },
  {
   "cell_type": "code",
   "execution_count": 10,
   "metadata": {},
   "outputs": [],
   "source": [
    "# Remove data with missing text\n",
    "train_df = train_df.dropna(subset=['text'])"
   ]
  },
  {
   "cell_type": "code",
   "execution_count": 11,
   "metadata": {},
   "outputs": [],
   "source": [
    "# Since the number of samples in the dimensions climate, occupation, prejudice-political, and social are very low, we will remove them from the dataset\n",
    "train_df = train_df[~train_df['dimension'].isin(['climate', 'occupation', 'prejudice-political', 'social'])]\n",
    "\n",
    "# Removing the samples with these dimensions from the test data as well\n",
    "test_df = dataset['test'].to_pandas()\n",
    "test_df = test_df[~test_df['dimension'].isin(['climate', 'occupation', 'prejudice-political', 'social'])]"
   ]
  },
  {
   "cell_type": "code",
   "execution_count": 18,
   "metadata": {},
   "outputs": [],
   "source": [
    "# Modify \"Confirmation \" aspect to be \"Confirmation\"\n",
    "train_df['aspect'] = train_df['aspect'].replace('Confirmation ', 'Confirmation')\n",
    "# Modify \"Health-related \" aspect to be \"Health-related\"\n",
    "train_df['aspect'] = train_df['aspect'].replace('Health-related ', 'Health-related')\n",
    "# Modify \"Policital \" aspect to be \"Political\"\n",
    "train_df['aspect'] = train_df['aspect'].replace('Political ', 'Political')\n",
    "# Modify \"Sexual Orientation\" aspect to be \"Sexual orientation\"\n",
    "train_df['aspect'] = train_df['aspect'].replace('Sexual Orientation', 'Sexual orientation')"
   ]
  },
  {
   "cell_type": "code",
   "execution_count": 20,
   "metadata": {},
   "outputs": [],
   "source": [
    "# Modify \"Confirmation \" aspect to be \"Confirmation\"\n",
    "test_df['aspect'] = test_df['aspect'].replace('Confirmation ', 'Confirmation')\n",
    "# Modify \"Health-related \" aspect to be \"Health-related\"\n",
    "test_df['aspect'] = test_df['aspect'].replace('Health-related ', 'Health-related')\n",
    "# Modify \"Policital \" aspect to be \"Political\"\n",
    "test_df['aspect'] = test_df['aspect'].replace('Political ', 'Political')\n",
    "# Modify \"Sexual Orientation\" aspect to be \"Sexual orientation\"\n",
    "test_df['aspect'] = test_df['aspect'].replace('Sexual Orientation', 'Sexual orientation')"
   ]
  },
  {
   "cell_type": "code",
   "execution_count": 22,
   "metadata": {},
   "outputs": [],
   "source": [
    "# Save train and test values as parquet files in the data folder\n",
    "train_df.to_parquet('../data/train.parquet')\n",
    "test_df.to_parquet('../data/test.parquet')"
   ]
  },
  {
   "cell_type": "code",
   "execution_count": null,
   "metadata": {},
   "outputs": [],
   "source": []
  }
 ],
 "metadata": {
  "kernelspec": {
   "display_name": ".venv",
   "language": "python",
   "name": "python3"
  },
  "language_info": {
   "codemirror_mode": {
    "name": "ipython",
    "version": 3
   },
   "file_extension": ".py",
   "mimetype": "text/x-python",
   "name": "python",
   "nbconvert_exporter": "python",
   "pygments_lexer": "ipython3",
   "version": "3.8.6"
  }
 },
 "nbformat": 4,
 "nbformat_minor": 2
}
